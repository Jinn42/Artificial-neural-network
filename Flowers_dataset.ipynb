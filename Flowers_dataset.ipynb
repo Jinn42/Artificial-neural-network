{
 "cells": [
  {
   "cell_type": "markdown",
   "metadata": {},
   "source": [
    "## Training a CNN"
   ]
  },
  {
   "cell_type": "markdown",
   "metadata": {},
   "source": [
    "In this lab we are going to be working with a [\"17 Category Flower Dataset\"](https://www.robots.ox.ac.uk/~vgg/data/flowers/17/index.html) from Visual Geometry Group of Oxford University.\n",
    "We will acquire the data, split it, train multiple models and do some vizualizations. "
   ]
  },
  {
   "cell_type": "code",
   "execution_count": 1,
   "metadata": {},
   "outputs": [],
   "source": [
    "import numpy as np \n",
    "import pandas as pd \n",
    "import os \n",
    "import shutil "
   ]
  },
  {
   "cell_type": "markdown",
   "metadata": {},
   "source": [
    "### 1. Data aquisition"
   ]
  },
  {
   "cell_type": "markdown",
   "metadata": {},
   "source": [
    "First, let's download the data from the webpage. You could have done it manually by going to the page, but we'll do it in the script."
   ]
  },
  {
   "cell_type": "code",
   "execution_count": 2,
   "metadata": {},
   "outputs": [],
   "source": [
    "import urllib"
   ]
  },
  {
   "cell_type": "code",
   "execution_count": 3,
   "metadata": {},
   "outputs": [],
   "source": [
    "dataset_url = \"https://www.robots.ox.ac.uk/~vgg/data/flowers/17/17flowers.tgz\"\n",
    "split_description_url = \"https://www.robots.ox.ac.uk/~vgg/data/flowers/17/datasplits.mat\"\n",
    "#segmentation_ground_truth_url = \"https://www.robots.ox.ac.uk/~vgg/data/flowers/17/trimaps.tgz\"\n",
    "readme_url = \"https://www.robots.ox.ac.uk/~vgg/data/flowers/17/README.txt\""
   ]
  },
  {
   "cell_type": "markdown",
   "metadata": {},
   "source": [
    "First, let's download the README file"
   ]
  },
  {
   "cell_type": "code",
   "execution_count": 4,
   "metadata": {},
   "outputs": [],
   "source": [
    "# create folder to store data\n",
    "data_folder = \"data/\"\n",
    "os.makedirs(data_folder, exist_ok=True)"
   ]
  },
  {
   "cell_type": "code",
   "execution_count": 5,
   "metadata": {},
   "outputs": [],
   "source": [
    "# let's write a function to download data as we'll use multiple times\n",
    "def get_file(file_url, target_folder=\"\"):\n",
    "    filename = os.path.basename(file_url)\n",
    "    # express explicitly the filepath where data will be downloaded\n",
    "    target_filepath = os.path.join(target_folder, filename)\n",
    "    filepath, response = urllib.request.urlretrieve(file_url, target_filepath)\n",
    "    \n",
    "    return filepath, response"
   ]
  },
  {
   "cell_type": "code",
   "execution_count": 6,
   "metadata": {},
   "outputs": [],
   "source": [
    "# download readme file\n",
    "readme_filepath, response = get_file(readme_url, data_folder)"
   ]
  },
  {
   "cell_type": "code",
   "execution_count": 7,
   "metadata": {},
   "outputs": [
    {
     "name": "stdout",
     "output_type": "stream",
     "text": [
      "17 Flower Category Database\n",
      "----------------------------------------------\n",
      "This set contains images of flowers belonging to 17 different categories. \n",
      "The images were acquired by searching the web and taking pictures. There are\n",
      "80 images for each category. \n",
      "\n",
      "The database was used in:\n",
      "\n",
      "Nilsback, M-E. and Zisserman, A.  A Visual Vocabulary for Flower Classification.\n",
      "Proceedings of the IEEE Conference on Computer Vision and Pattern Recognition (2006) \n",
      "http://www.robots.ox.ac.uk/~vgg/publications/papers/nilsback06.{pdf,ps.gz}.\n",
      "\n",
      "The datasplits used in this paper are specified in datasplits.mat\n",
      "\n",
      "There are 3 separate splits. The results in the paper are averaged over the 3 splits.\n",
      "Each split has a training file (trn1,trn2,trn3), a validation file (val1, val2, val3)\n",
      "and a testfile (tst1, tst2 or tst3). \n",
      "\n",
      "Segmentation Ground Truth\n",
      "------------------------------------------------\n",
      "The ground truth is given for a subset of the images from 13 different\n",
      "categories. \n",
      "\n",
      "More details can be found in:\n",
      "\n",
      "Nilsback, M-E. and Zisserman, A. Delving into the whorl of flower segmentation.\n",
      "Proceedings of the British Machine Vision Conference (2007)\n",
      "http:www.robots.ox.ac.uk/~vgg/publications/papers/nilsback06.(pdf,ps.gz).\n",
      "\n",
      "The ground truth file also contains the file imlist.mat, which indicated\n",
      "which images in the original database that have been anotated.\n",
      "\n",
      "Distance matrices\n",
      "-----------------------------------------------\n",
      "\n",
      "We provide two set of distance matrices:\n",
      "\n",
      "1. distancematrices17gcfeat06.mat \n",
      "- Distance matrices using the same features and segmentation as detailed in:\n",
      "    Nilsback, M-E. and Zisserman, A.  A Visual Vocabulary for Flower Classification.\n",
      "    Proceedings of the IEEE Conference on Computer Vision and Pattern Recognition(2006)\n",
      "    http://www.robots.ox.ac.uk/~vgg/publications/papers/nilsback06.{pdf,ps.gz}.\n",
      "\n",
      "2. distancematrices17itfeat08.mat\n",
      "- Distance matrices using the same features as described in: \n",
      "    Nilsback, M-E. and Zisserman, A. Automated flower classification over a large number of classes.\n",
      "    Proceedings of the Indian Conference on Computer Vision, Graphics and Image Processing (2008)\n",
      "    http://www.robots.ox.ac.uk/~vgg/publications/papers/nilsback08.{pdf,ps.gz}.\n",
      "  and the iterative segmenation scheme detailed in \n",
      "    Nilsback, M-E. and Zisserman, A. Delving into the whorl of flower segmentation.\n",
      "    Proceedings of the British Machine Vision Conference (2007)\n",
      "    http:www.robots.ox.ac.uk/~vgg/publications/papers/nilsback06.(pdf,ps.gz).\n",
      "\n"
     ]
    }
   ],
   "source": [
    "# Check out the README\n",
    "with open(readme_filepath, 'r') as readme:\n",
    "    text = readme.read()\n",
    "    print(text)"
   ]
  },
  {
   "cell_type": "markdown",
   "metadata": {},
   "source": [
    "Now, let's download the data"
   ]
  },
  {
   "cell_type": "code",
   "execution_count": 8,
   "metadata": {},
   "outputs": [],
   "source": [
    "# download the data\n",
    "dataset_filepath, response = get_file(dataset_url, data_folder)"
   ]
  },
  {
   "cell_type": "markdown",
   "metadata": {},
   "source": [
    "We have just downloaded a tar file. Let's unpack it."
   ]
  },
  {
   "cell_type": "code",
   "execution_count": 9,
   "metadata": {},
   "outputs": [],
   "source": [
    "import tarfile"
   ]
  },
  {
   "cell_type": "code",
   "execution_count": 10,
   "metadata": {},
   "outputs": [],
   "source": [
    "with tarfile.open(dataset_filepath) as tar:\n",
    "    tar.extractall(path=data_folder)"
   ]
  },
  {
   "cell_type": "markdown",
   "metadata": {},
   "source": [
    "What have we extracted? "
   ]
  },
  {
   "cell_type": "code",
   "execution_count": 11,
   "metadata": {},
   "outputs": [
    {
     "data": {
      "text/plain": [
       "['datasplits.mat',\n",
       " '17flowers.tgz',\n",
       " '.ipynb_checkpoints',\n",
       " 'trimaps',\n",
       " 'README.txt',\n",
       " 'jpg',\n",
       " 'trimaps.tgz']"
      ]
     },
     "execution_count": 11,
     "metadata": {},
     "output_type": "execute_result"
    }
   ],
   "source": [
    "os.listdir(data_folder)"
   ]
  },
  {
   "cell_type": "markdown",
   "metadata": {},
   "source": [
    "We see that a new folder named *jpg* has appeared."
   ]
  },
  {
   "cell_type": "code",
   "execution_count": 12,
   "metadata": {},
   "outputs": [
    {
     "data": {
      "text/plain": [
       "['image_1063.jpg',\n",
       " 'image_0674.jpg',\n",
       " 'image_0116.jpg',\n",
       " 'image_1329.jpg',\n",
       " 'image_0945.jpg',\n",
       " 'image_0544.jpg',\n",
       " 'image_1135.jpg',\n",
       " 'image_0635.jpg',\n",
       " 'image_1178.jpg',\n",
       " 'image_0936.jpg']"
      ]
     },
     "execution_count": 12,
     "metadata": {},
     "output_type": "execute_result"
    }
   ],
   "source": [
    "os.listdir(os.path.join(data_folder, 'jpg'))[:10]"
   ]
  },
  {
   "cell_type": "markdown",
   "metadata": {},
   "source": [
    "This folder contains images of the dataset. But what about ground truth?\n",
    "\n",
    "Based on the README, each class contains exactly 80 images. Quick check shows that images of one class are grouped together. We will use this fact later to group the images by class."
   ]
  },
  {
   "cell_type": "markdown",
   "metadata": {},
   "source": [
    "The split information was already provided with the dataset (otherwise we could have used train_test_split to obtain it)"
   ]
  },
  {
   "cell_type": "code",
   "execution_count": 13,
   "metadata": {},
   "outputs": [],
   "source": [
    "# download split file\n",
    "split_filepath, response = get_file(split_description_url, data_folder)"
   ]
  },
  {
   "cell_type": "code",
   "execution_count": 14,
   "metadata": {},
   "outputs": [],
   "source": [
    "from scipy.io import loadmat\n",
    "split = loadmat(split_filepath)"
   ]
  },
  {
   "cell_type": "code",
   "execution_count": 15,
   "metadata": {},
   "outputs": [
    {
     "data": {
      "text/plain": [
       "dict_keys(['__header__', '__version__', '__globals__', 'trn1', 'trn2', 'trn3', 'tst1', 'tst2', 'tst3', 'val3', 'val2', 'val1'])"
      ]
     },
     "execution_count": 15,
     "metadata": {},
     "output_type": "execute_result"
    }
   ],
   "source": [
    "split.keys()"
   ]
  },
  {
   "cell_type": "markdown",
   "metadata": {},
   "source": [
    "Let's use option 1 of train/val/test split:"
   ]
  },
  {
   "cell_type": "code",
   "execution_count": 16,
   "metadata": {},
   "outputs": [
    {
     "name": "stdout",
     "output_type": "stream",
     "text": [
      "Train set contains 680 files, \n",
      "val set contains 340 files, \n",
      "and test set contains 340 files\n"
     ]
    }
   ],
   "source": [
    "train = split[\"trn1\"]\n",
    "val = split[\"val1\"]\n",
    "test = split[\"tst1\"]\n",
    "\n",
    "print(\"\"\"Train set contains {} files, \n",
    "val set contains {} files, \n",
    "and test set contains {} files\"\"\".format(train.shape[1], val.shape[1], test.shape[1]))\n"
   ]
  },
  {
   "cell_type": "markdown",
   "metadata": {},
   "source": [
    "##### Excercise\n",
    "Additional things to do:\n",
    "- Check how many images we have downloaded.\n",
    "- Display some of the images.\n",
    "- Are those color images? \n",
    "- What are their shape? \n",
    "- Are they all of the same shape?"
   ]
  },
  {
   "cell_type": "markdown",
   "metadata": {},
   "source": [
    "### 2. Data regrouping"
   ]
  },
  {
   "cell_type": "markdown",
   "metadata": {},
   "source": [
    "During the training with Keras for the simplicity we are going to be using flow_from_dir method of ImageDataGenerator. However, we'll need to organize data first in the specific manner: separate train, val, test sets, and put images of each class in a designated folder. \n"
   ]
  },
  {
   "cell_type": "markdown",
   "metadata": {},
   "source": [
    "First, let's write a function to get a class name from file index. We'll use the fact that each class has 80 images, and they are grouped together by index. "
   ]
  },
  {
   "cell_type": "code",
   "execution_count": 17,
   "metadata": {},
   "outputs": [],
   "source": [
    "def get_image_class(file_index):\n",
    "    image_class_idx = (int(file_index) - 1) // 80 + 1\n",
    "    class_name = \"{:02d}\".format(image_class_idx)\n",
    "    \n",
    "    return class_name"
   ]
  },
  {
   "cell_type": "markdown",
   "metadata": {},
   "source": [
    "Now let's rearrange the data"
   ]
  },
  {
   "cell_type": "code",
   "execution_count": 18,
   "metadata": {},
   "outputs": [],
   "source": [
    "from shutil import copy"
   ]
  },
  {
   "cell_type": "code",
   "execution_count": 19,
   "metadata": {},
   "outputs": [],
   "source": [
    "training_folder_name = \"training_folder\""
   ]
  },
  {
   "cell_type": "code",
   "execution_count": 20,
   "metadata": {},
   "outputs": [
    {
     "name": "stdout",
     "output_type": "stream",
     "text": [
      "files.txt~\n",
      "Not a jpg file, skipping\n",
      "files.txt\n",
      "Not a jpg file, skipping\n"
     ]
    }
   ],
   "source": [
    "for filename in os.listdir(os.path.join(data_folder, 'jpg')):\n",
    "    if filename.endswith('jpg'):\n",
    "        ### filename 'image_0936.jpg' --> file_index 936\n",
    "        file_index = int(filename[6:10])\n",
    "        true_class = get_image_class(file_index)\n",
    "        if file_index in train:\n",
    "            split_folder = 'train'\n",
    "        elif file_index in val:\n",
    "            split_folder = 'val'\n",
    "        elif file_index in test:\n",
    "            split_folder = 'test'     \n",
    "        \n",
    "        target_folder = os.path.join(data_folder, training_folder_name, split_folder, true_class)\n",
    "        os.makedirs(target_folder, exist_ok=True)\n",
    "        \n",
    "        source_filepath = os.path.join(data_folder, 'jpg', filename)\n",
    "        copy(source_filepath, target_folder)\n",
    "    else:\n",
    "        print(filename)\n",
    "        print(\"Not a jpg file, skipping\")\n",
    "    "
   ]
  },
  {
   "cell_type": "markdown",
   "metadata": {},
   "source": [
    "### 3. CNN training"
   ]
  },
  {
   "cell_type": "markdown",
   "metadata": {},
   "source": [
    "Now that we have prepared the data, we will be able to train a model."
   ]
  },
  {
   "cell_type": "markdown",
   "metadata": {},
   "source": [
    "#### 3.1 Transfer learning"
   ]
  },
  {
   "cell_type": "markdown",
   "metadata": {},
   "source": [
    "Let's do the [transfer learning](https://papers.nips.cc/paper/5347-how-transferable-are-features-in-deep-neural-networks.pdf) we have briefly discussed last time. We'll load one of the pretrained models from Keras library with [ImageNet weights](http://www.image-net.org/)."
   ]
  },
  {
   "cell_type": "markdown",
   "metadata": {},
   "source": [
    "##### Model preparation"
   ]
  },
  {
   "cell_type": "code",
   "execution_count": 40,
   "metadata": {},
   "outputs": [],
   "source": [
    "import keras\n",
    "from keras.preprocessing.image import ImageDataGenerator\n",
    "from keras import backend as K\n",
    "import tensorflow as tf\n",
    "\n",
    "import os"
   ]
  },
  {
   "cell_type": "code",
   "execution_count": 41,
   "metadata": {},
   "outputs": [],
   "source": [
    "## GPU selection --> execute do only if you need to select a GPU / part of GPU\n",
    "\n",
    "os.environ[\"CUDA_VISIBLE_DEVICES\"] = \"0\" \n",
    "\n",
    "### Set session with share of GPU\n",
    "config_1 = tf.ConfigProto()\n",
    "gpu_fraction_1 = float(os.environ.get('GPU_LIMIT_1', 0.45))\n",
    "config_1.gpu_options.per_process_gpu_memory_fraction = gpu_fraction_1\n",
    "config_1.gpu_options.allow_growth = True\n",
    "\n",
    "sess_1 = tf.Session(config=config_1)\n",
    "sess_1.run(tf.global_variables_initializer())\n",
    "K.set_session(sess_1)"
   ]
  },
  {
   "cell_type": "markdown",
   "metadata": {},
   "source": [
    "We'll be using VGG16 model. Together with weights, we'll also need a corresponding preprocessing function for the input images."
   ]
  },
  {
   "cell_type": "code",
   "execution_count": 42,
   "metadata": {},
   "outputs": [],
   "source": [
    "from keras.applications.vgg16 import VGG16\n",
    "from keras.applications.vgg16 import preprocess_input as preprocess_input_vgg\n",
    "\n",
    "from keras.layers import Dense, Dropout, Flatten\n",
    "from keras.models import Model"
   ]
  },
  {
   "cell_type": "code",
   "execution_count": 43,
   "metadata": {},
   "outputs": [
    {
     "name": "stdout",
     "output_type": "stream",
     "text": [
      "Model: \"vgg16\"\n",
      "_________________________________________________________________\n",
      "Layer (type)                 Output Shape              Param #   \n",
      "=================================================================\n",
      "input_3 (InputLayer)         (None, 224, 224, 3)       0         \n",
      "_________________________________________________________________\n",
      "block1_conv1 (Conv2D)        (None, 224, 224, 64)      1792      \n",
      "_________________________________________________________________\n",
      "block1_conv2 (Conv2D)        (None, 224, 224, 64)      36928     \n",
      "_________________________________________________________________\n",
      "block1_pool (MaxPooling2D)   (None, 112, 112, 64)      0         \n",
      "_________________________________________________________________\n",
      "block2_conv1 (Conv2D)        (None, 112, 112, 128)     73856     \n",
      "_________________________________________________________________\n",
      "block2_conv2 (Conv2D)        (None, 112, 112, 128)     147584    \n",
      "_________________________________________________________________\n",
      "block2_pool (MaxPooling2D)   (None, 56, 56, 128)       0         \n",
      "_________________________________________________________________\n",
      "block3_conv1 (Conv2D)        (None, 56, 56, 256)       295168    \n",
      "_________________________________________________________________\n",
      "block3_conv2 (Conv2D)        (None, 56, 56, 256)       590080    \n",
      "_________________________________________________________________\n",
      "block3_conv3 (Conv2D)        (None, 56, 56, 256)       590080    \n",
      "_________________________________________________________________\n",
      "block3_pool (MaxPooling2D)   (None, 28, 28, 256)       0         \n",
      "_________________________________________________________________\n",
      "block4_conv1 (Conv2D)        (None, 28, 28, 512)       1180160   \n",
      "_________________________________________________________________\n",
      "block4_conv2 (Conv2D)        (None, 28, 28, 512)       2359808   \n",
      "_________________________________________________________________\n",
      "block4_conv3 (Conv2D)        (None, 28, 28, 512)       2359808   \n",
      "_________________________________________________________________\n",
      "block4_pool (MaxPooling2D)   (None, 14, 14, 512)       0         \n",
      "_________________________________________________________________\n",
      "block5_conv1 (Conv2D)        (None, 14, 14, 512)       2359808   \n",
      "_________________________________________________________________\n",
      "block5_conv2 (Conv2D)        (None, 14, 14, 512)       2359808   \n",
      "_________________________________________________________________\n",
      "block5_conv3 (Conv2D)        (None, 14, 14, 512)       2359808   \n",
      "_________________________________________________________________\n",
      "block5_pool (MaxPooling2D)   (None, 7, 7, 512)         0         \n",
      "=================================================================\n",
      "Total params: 14,714,688\n",
      "Trainable params: 14,714,688\n",
      "Non-trainable params: 0\n",
      "_________________________________________________________________\n"
     ]
    }
   ],
   "source": [
    "base_model = VGG16(include_top=False, weights='imagenet', input_shape = (224,224,3))\n",
    "base_model.summary()"
   ]
  },
  {
   "cell_type": "markdown",
   "metadata": {},
   "source": [
    "Note that we have downloaded only a convolution part of the neural network. Let's add some dense layers on top of it."
   ]
  },
  {
   "cell_type": "code",
   "execution_count": 44,
   "metadata": {},
   "outputs": [],
   "source": [
    "nb_classes = 17"
   ]
  },
  {
   "cell_type": "code",
   "execution_count": 45,
   "metadata": {},
   "outputs": [],
   "source": [
    "flatten = Flatten()(base_model.output)\n",
    "dropout_1 = Dropout(0.25)(flatten)\n",
    "fc_1 = Dense(1000)(dropout_1)\n",
    "dropout_2 = Dropout(0.5)(fc_1)\n",
    "predictions = Dense(nb_classes, activation=\"softmax\", name='predictions')(dropout_2)"
   ]
  },
  {
   "cell_type": "code",
   "execution_count": 46,
   "metadata": {},
   "outputs": [
    {
     "name": "stderr",
     "output_type": "stream",
     "text": [
      "/cyclope/nshvai/.nshvai/lib/python3.6/site-packages/ipykernel_launcher.py:1: UserWarning: Update your `Model` call to the Keras 2 API: `Model(inputs=Tensor(\"in..., outputs=Tensor(\"pr...)`\n",
      "  \"\"\"Entry point for launching an IPython kernel.\n"
     ]
    }
   ],
   "source": [
    "model = Model(input=base_model.input, output=predictions)"
   ]
  },
  {
   "cell_type": "code",
   "execution_count": 47,
   "metadata": {},
   "outputs": [
    {
     "name": "stdout",
     "output_type": "stream",
     "text": [
      "Model: \"model_1\"\n",
      "_________________________________________________________________\n",
      "Layer (type)                 Output Shape              Param #   \n",
      "=================================================================\n",
      "input_3 (InputLayer)         (None, 224, 224, 3)       0         \n",
      "_________________________________________________________________\n",
      "block1_conv1 (Conv2D)        (None, 224, 224, 64)      1792      \n",
      "_________________________________________________________________\n",
      "block1_conv2 (Conv2D)        (None, 224, 224, 64)      36928     \n",
      "_________________________________________________________________\n",
      "block1_pool (MaxPooling2D)   (None, 112, 112, 64)      0         \n",
      "_________________________________________________________________\n",
      "block2_conv1 (Conv2D)        (None, 112, 112, 128)     73856     \n",
      "_________________________________________________________________\n",
      "block2_conv2 (Conv2D)        (None, 112, 112, 128)     147584    \n",
      "_________________________________________________________________\n",
      "block2_pool (MaxPooling2D)   (None, 56, 56, 128)       0         \n",
      "_________________________________________________________________\n",
      "block3_conv1 (Conv2D)        (None, 56, 56, 256)       295168    \n",
      "_________________________________________________________________\n",
      "block3_conv2 (Conv2D)        (None, 56, 56, 256)       590080    \n",
      "_________________________________________________________________\n",
      "block3_conv3 (Conv2D)        (None, 56, 56, 256)       590080    \n",
      "_________________________________________________________________\n",
      "block3_pool (MaxPooling2D)   (None, 28, 28, 256)       0         \n",
      "_________________________________________________________________\n",
      "block4_conv1 (Conv2D)        (None, 28, 28, 512)       1180160   \n",
      "_________________________________________________________________\n",
      "block4_conv2 (Conv2D)        (None, 28, 28, 512)       2359808   \n",
      "_________________________________________________________________\n",
      "block4_conv3 (Conv2D)        (None, 28, 28, 512)       2359808   \n",
      "_________________________________________________________________\n",
      "block4_pool (MaxPooling2D)   (None, 14, 14, 512)       0         \n",
      "_________________________________________________________________\n",
      "block5_conv1 (Conv2D)        (None, 14, 14, 512)       2359808   \n",
      "_________________________________________________________________\n",
      "block5_conv2 (Conv2D)        (None, 14, 14, 512)       2359808   \n",
      "_________________________________________________________________\n",
      "block5_conv3 (Conv2D)        (None, 14, 14, 512)       2359808   \n",
      "_________________________________________________________________\n",
      "block5_pool (MaxPooling2D)   (None, 7, 7, 512)         0         \n",
      "_________________________________________________________________\n",
      "flatten_2 (Flatten)          (None, 25088)             0         \n",
      "_________________________________________________________________\n",
      "dropout_3 (Dropout)          (None, 25088)             0         \n",
      "_________________________________________________________________\n",
      "dense_2 (Dense)              (None, 1000)              25089000  \n",
      "_________________________________________________________________\n",
      "dropout_4 (Dropout)          (None, 1000)              0         \n",
      "_________________________________________________________________\n",
      "predictions (Dense)          (None, 17)                17017     \n",
      "=================================================================\n",
      "Total params: 39,820,705\n",
      "Trainable params: 39,820,705\n",
      "Non-trainable params: 0\n",
      "_________________________________________________________________\n"
     ]
    }
   ],
   "source": [
    "model.summary()"
   ]
  },
  {
   "cell_type": "markdown",
   "metadata": {},
   "source": [
    "##### Model training parameters"
   ]
  },
  {
   "cell_type": "code",
   "execution_count": 48,
   "metadata": {},
   "outputs": [],
   "source": [
    "from keras import optimizers"
   ]
  },
  {
   "cell_type": "code",
   "execution_count": 49,
   "metadata": {},
   "outputs": [],
   "source": [
    "loss = 'categorical_crossentropy'\n",
    "learning_rate = 0.001\n",
    "optimizer = optimizers.SGD ## optimizers.SGD ## optimizers.RMSprop ## optimizers.Adagrad\n",
    "metrics = ['accuracy']"
   ]
  },
  {
   "cell_type": "code",
   "execution_count": 50,
   "metadata": {},
   "outputs": [],
   "source": [
    "model.compile(loss=loss,\n",
    "              optimizer=optimizer(learning_rate),\n",
    "              metrics=metrics)"
   ]
  },
  {
   "cell_type": "markdown",
   "metadata": {},
   "source": [
    "##### Data preparation"
   ]
  },
  {
   "cell_type": "code",
   "execution_count": 51,
   "metadata": {},
   "outputs": [],
   "source": [
    "from keras.preprocessing.image import ImageDataGenerator"
   ]
  },
  {
   "cell_type": "code",
   "execution_count": 52,
   "metadata": {},
   "outputs": [],
   "source": [
    "train_dir = os.path.join(data_folder, training_folder_name, \"train\")\n",
    "val_dir = os.path.join(data_folder, training_folder_name, \"val\")\n",
    "test_dir = os.path.join(data_folder, training_folder_name, \"test\")"
   ]
  },
  {
   "cell_type": "code",
   "execution_count": 53,
   "metadata": {},
   "outputs": [],
   "source": [
    "# we'll resize images in correspondance to network input size\n",
    "image_size = (224,224)"
   ]
  },
  {
   "cell_type": "code",
   "execution_count": 54,
   "metadata": {},
   "outputs": [
    {
     "name": "stdout",
     "output_type": "stream",
     "text": [
      "Found 680 images belonging to 17 classes.\n",
      "Found 340 images belonging to 17 classes.\n"
     ]
    }
   ],
   "source": [
    "# apply some data augmentation\n",
    "train_datagen = ImageDataGenerator(rotation_range=15,\n",
    "                                   width_shift_range=0.2,\n",
    "                                   height_shift_range=0.2,\n",
    "                                   horizontal_flip=True,\n",
    "                                   fill_mode='nearest',\n",
    "                                   preprocessing_function=preprocess_input_vgg\n",
    "                                  )\n",
    "\n",
    "validation_datagen = ImageDataGenerator(preprocessing_function=preprocess_input_vgg) # for validation we don't need to augment\n",
    "\n",
    "train_batchsize = 80\n",
    "val_batchsize = 80\n",
    "\n",
    "# this function takes images from folders and feeds to Imagedatagenerator\n",
    "train_generator = train_datagen.flow_from_directory( \n",
    "        train_dir,\n",
    "        target_size=image_size,\n",
    "        batch_size=train_batchsize,\n",
    "        class_mode='categorical')\n",
    " \n",
    "validation_generator = validation_datagen.flow_from_directory(\n",
    "        val_dir,\n",
    "        target_size=image_size,\n",
    "        batch_size=val_batchsize,\n",
    "        class_mode='categorical',\n",
    "        shuffle=False)"
   ]
  },
  {
   "cell_type": "markdown",
   "metadata": {},
   "source": [
    "##### Model training"
   ]
  },
  {
   "cell_type": "code",
   "execution_count": 55,
   "metadata": {},
   "outputs": [],
   "source": [
    "epochs = 50"
   ]
  },
  {
   "cell_type": "code",
   "execution_count": 56,
   "metadata": {},
   "outputs": [],
   "source": [
    "nb_train_steps = train_generator.samples // train_generator.batch_size\n",
    "nb_val_steps = validation_generator.samples // validation_generator.batch_size"
   ]
  },
  {
   "cell_type": "code",
   "execution_count": null,
   "metadata": {},
   "outputs": [
    {
     "name": "stdout",
     "output_type": "stream",
     "text": [
      "Epoch 1/50\n",
      "8/8 [==============================] - 15s 2s/step - loss: 12.2589 - accuracy: 0.0900 - val_loss: 2.8952 - val_accuracy: 0.1375\n",
      "Epoch 2/50\n",
      "8/8 [==============================] - 16s 2s/step - loss: 2.9713 - accuracy: 0.0984 - val_loss: 2.4470 - val_accuracy: 0.1154\n",
      "Epoch 3/50\n",
      "8/8 [==============================] - 13s 2s/step - loss: 2.8518 - accuracy: 0.0893 - val_loss: 2.7958 - val_accuracy: 0.0538\n",
      "Epoch 4/50\n",
      "8/8 [==============================] - 14s 2s/step - loss: 2.7998 - accuracy: 0.0812 - val_loss: 2.8718 - val_accuracy: 0.1308\n",
      "Epoch 5/50\n",
      "8/8 [==============================] - 12s 2s/step - loss: 2.7558 - accuracy: 0.0917 - val_loss: 2.8591 - val_accuracy: 0.1462\n",
      "Epoch 6/50\n",
      "8/8 [==============================] - 12s 2s/step - loss: 2.8159 - accuracy: 0.1054 - val_loss: 2.7740 - val_accuracy: 0.0969\n",
      "Epoch 7/50\n",
      "8/8 [==============================] - 16s 2s/step - loss: 2.8091 - accuracy: 0.0875 - val_loss: 2.2211 - val_accuracy: 0.1500\n",
      "Epoch 8/50\n",
      "8/8 [==============================] - 11s 1s/step - loss: 2.7458 - accuracy: 0.1054 - val_loss: 2.8013 - val_accuracy: 0.0192\n",
      "Epoch 9/50\n",
      "8/8 [==============================] - 13s 2s/step - loss: 2.7138 - accuracy: 0.1156 - val_loss: 2.9160 - val_accuracy: 0.1577\n",
      "Epoch 10/50\n",
      "8/8 [==============================] - 13s 2s/step - loss: 2.7085 - accuracy: 0.1100 - val_loss: 2.7965 - val_accuracy: 0.1769\n",
      "Epoch 11/50\n",
      "8/8 [==============================] - 14s 2s/step - loss: 2.6246 - accuracy: 0.1417 - val_loss: 2.8194 - val_accuracy: 0.1625\n",
      "Epoch 12/50\n",
      "8/8 [==============================] - 16s 2s/step - loss: 2.5959 - accuracy: 0.1533 - val_loss: 1.6560 - val_accuracy: 0.1885\n",
      "Epoch 13/50\n",
      "8/8 [==============================] - 14s 2s/step - loss: 2.5595 - accuracy: 0.1531 - val_loss: 2.8810 - val_accuracy: 0.0692\n",
      "Epoch 14/50\n",
      "8/8 [==============================] - 13s 2s/step - loss: 2.6026 - accuracy: 0.1500 - val_loss: 2.8633 - val_accuracy: 0.2038\n",
      "Epoch 15/50\n",
      "8/8 [==============================] - 12s 2s/step - loss: 2.5705 - accuracy: 0.1667 - val_loss: 2.8151 - val_accuracy: 0.2115\n",
      "Epoch 16/50\n",
      "8/8 [==============================] - 13s 2s/step - loss: 2.5292 - accuracy: 0.1700 - val_loss: 2.7674 - val_accuracy: 0.1719\n",
      "Epoch 17/50\n",
      "8/8 [==============================] - 16s 2s/step - loss: 2.5294 - accuracy: 0.1767 - val_loss: 1.5860 - val_accuracy: 0.2231\n",
      "Epoch 18/50\n",
      "8/8 [==============================] - 12s 2s/step - loss: 2.5008 - accuracy: 0.1733 - val_loss: 2.7523 - val_accuracy: 0.0577\n",
      "Epoch 19/50\n",
      "8/8 [==============================] - 12s 2s/step - loss: 2.5232 - accuracy: 0.1600 - val_loss: 2.8833 - val_accuracy: 0.2077\n",
      "Epoch 20/50\n",
      "8/8 [==============================] - 13s 2s/step - loss: 2.4628 - accuracy: 0.2172 - val_loss: 2.7595 - val_accuracy: 0.2500\n",
      "Epoch 21/50\n",
      "8/8 [==============================] - 12s 2s/step - loss: 2.5096 - accuracy: 0.1839 - val_loss: 2.7611 - val_accuracy: 0.1969\n",
      "Epoch 22/50\n",
      "8/8 [==============================] - 17s 2s/step - loss: 2.5073 - accuracy: 0.1813 - val_loss: 1.3871 - val_accuracy: 0.2500\n",
      "Epoch 23/50\n",
      "8/8 [==============================] - 11s 1s/step - loss: 2.4280 - accuracy: 0.2286 - val_loss: 2.4541 - val_accuracy: 0.1077\n",
      "Epoch 24/50\n",
      "8/8 [==============================] - 14s 2s/step - loss: 2.4387 - accuracy: 0.2156 - val_loss: 2.8083 - val_accuracy: 0.2615\n",
      "Epoch 25/50\n",
      "8/8 [==============================] - 12s 2s/step - loss: 2.4153 - accuracy: 0.2150 - val_loss: 2.4157 - val_accuracy: 0.2769\n",
      "Epoch 26/50\n",
      "8/8 [==============================] - 13s 2s/step - loss: 2.4253 - accuracy: 0.2200 - val_loss: 2.6304 - val_accuracy: 0.2250\n",
      "Epoch 27/50\n",
      "8/8 [==============================] - 16s 2s/step - loss: 2.3401 - accuracy: 0.2267 - val_loss: 1.2459 - val_accuracy: 0.2923\n",
      "Epoch 28/50\n",
      "8/8 [==============================] - 12s 2s/step - loss: 2.3117 - accuracy: 0.2517 - val_loss: 2.3378 - val_accuracy: 0.1769\n",
      "Epoch 29/50\n",
      "8/8 [==============================] - 13s 2s/step - loss: 2.3172 - accuracy: 0.2450 - val_loss: 2.7669 - val_accuracy: 0.3154\n",
      "Epoch 30/50\n",
      "8/8 [==============================] - 12s 1s/step - loss: 2.2137 - accuracy: 0.2767 - val_loss: 2.1078 - val_accuracy: 0.3654\n",
      "Epoch 31/50\n",
      "8/8 [==============================] - 14s 2s/step - loss: 2.1561 - accuracy: 0.3109 - val_loss: 2.3424 - val_accuracy: 0.3688\n",
      "Epoch 32/50\n",
      "3/8 [==========>...................] - ETA: 6s - loss: 2.0716 - accuracy: 0.3500"
     ]
    }
   ],
   "source": [
    "history = model.fit_generator(\n",
    "      train_generator,\n",
    "      steps_per_epoch=nb_train_steps,\n",
    "      epochs=epochs,\n",
    "      validation_data=validation_generator,\n",
    "      validation_steps=nb_val_steps,\n",
    "      verbose=1, #0\n",
    ")"
   ]
  },
  {
   "cell_type": "code",
   "execution_count": 68,
   "metadata": {},
   "outputs": [
    {
     "name": "stdout",
     "output_type": "stream",
     "text": [
      "training acc.: 0.59\n",
      "val acc.: 0.6846153736114502\n"
     ]
    }
   ],
   "source": [
    "print('training acc.:',history.history['accuracy'][-1])\n",
    "print('val acc.:', (history.history['val_accuracy'])[-1])"
   ]
  },
  {
   "cell_type": "code",
   "execution_count": 69,
   "metadata": {},
   "outputs": [],
   "source": [
    "import matplotlib.pyplot as plt\n",
    "%matplotlib inline\n",
    "def plot_history(history):\n",
    "    plt.figure()\n",
    "    plt.xlabel('Epoch')\n",
    "    plt.ylabel('Accuracy %')\n",
    "    plt.plot(history.epoch, np.array(history.history['accuracy']),\n",
    "    label='Train Accuracy')\n",
    "    plt.plot(history.epoch, np.array(history.history['val_accuracy']),\n",
    "    label = 'Val Accuracy')\n",
    "    plt.legend()\n",
    "    plt.ylim([0, 1])"
   ]
  },
  {
   "cell_type": "code",
   "execution_count": 70,
   "metadata": {},
   "outputs": [
    {
     "data": {
      "image/png": "[encoded data removed]",
      "text/plain": [
       "<Figure size 432x288 with 1 Axes>"
      ]
     },
     "metadata": {
      "needs_background": "light"
     },
     "output_type": "display_data"
    }
   ],
   "source": [
    "plot_history(history)"
   ]
  },
  {
   "cell_type": "markdown",
   "metadata": {},
   "source": [
    "##### Save model"
   ]
  },
  {
   "cell_type": "code",
   "execution_count": 71,
   "metadata": {},
   "outputs": [],
   "source": [
    "weights_folder = \"weights\"\n",
    "os.makedirs(weights_folder, exist_ok=True)"
   ]
  },
  {
   "cell_type": "code",
   "execution_count": 72,
   "metadata": {},
   "outputs": [],
   "source": [
    "model_name = 'vgg16_transfer_weights.h5'"
   ]
  },
  {
   "cell_type": "code",
   "execution_count": 73,
   "metadata": {},
   "outputs": [],
   "source": [
    "model_path = os.path.join(weights_folder, model_name)"
   ]
  },
  {
   "cell_type": "code",
   "execution_count": 78,
   "metadata": {},
   "outputs": [],
   "source": [
    "#model.save(model_path)"
   ]
  },
  {
   "cell_type": "markdown",
   "metadata": {},
   "source": [
    "##### Do the test on images"
   ]
  },
  {
   "cell_type": "code",
   "execution_count": 79,
   "metadata": {},
   "outputs": [],
   "source": [
    "from keras.preprocessing import image\n",
    "from keras.models import load_model"
   ]
  },
  {
   "cell_type": "code",
   "execution_count": 80,
   "metadata": {},
   "outputs": [],
   "source": [
    "model = load_model(model_path)"
   ]
  },
  {
   "cell_type": "markdown",
   "metadata": {},
   "source": [
    "###### Single image prediction"
   ]
  },
  {
   "cell_type": "code",
   "execution_count": 95,
   "metadata": {},
   "outputs": [],
   "source": [
    "class_idx = '07'\n",
    "image_name = os.listdir(os.path.join(test_dir, class_idx))[0]\n",
    "image_path = os.path.join(test_dir, class_idx, image_name)"
   ]
  },
  {
   "cell_type": "code",
   "execution_count": 96,
   "metadata": {},
   "outputs": [
    {
     "name": "stdout",
     "output_type": "stream",
     "text": [
      "[[1.5288817e-17 1.4129310e-20 1.2092929e-17 4.3464738e-21 5.1470821e-18\n",
      "  1.5839364e-19 1.0000000e+00 3.6123461e-18 3.7224653e-19 2.4319075e-22\n",
      "  1.0156736e-16 7.7484472e-16 5.6257878e-20 6.5562739e-19 5.5429071e-18\n",
      "  1.1861455e-20 3.5595567e-19]]\n"
     ]
    }
   ],
   "source": [
    "# predicting image: getting the output vector\n",
    "img = image.load_img(image_path, target_size=image_size)\n",
    "img_array = image.img_to_array(img)\n",
    "img_expanded = np.expand_dims(img_array, axis=0)\n",
    "preprocessed_image = preprocess_input_vgg(img_expanded)\n",
    "\n",
    "pred = model.predict(preprocessed_image)\n",
    "print(pred)"
   ]
  },
  {
   "cell_type": "code",
   "execution_count": 97,
   "metadata": {},
   "outputs": [
    {
     "data": {
      "text/plain": [
       "'07'"
      ]
     },
     "execution_count": 97,
     "metadata": {},
     "output_type": "execute_result"
    }
   ],
   "source": [
    "classes = [\"{:02d}\".format(i) for i in range(1, 18)]\n",
    "pred_class_idx = np.argmax(pred, axis=1)\n",
    "classes[pred_class_idx[0]]"
   ]
  },
  {
   "cell_type": "markdown",
   "metadata": {},
   "source": [
    "###### Multiple image predictions"
   ]
  },
  {
   "cell_type": "code",
   "execution_count": 101,
   "metadata": {},
   "outputs": [],
   "source": [
    "from sklearn.metrics import classification_report, confusion_matrix\n",
    "import seaborn as sns; sns.set()"
   ]
  },
  {
   "cell_type": "code",
   "execution_count": 92,
   "metadata": {},
   "outputs": [],
   "source": [
    "test_datagen = ImageDataGenerator(preprocessing_function=preprocess_input_vgg) "
   ]
  },
  {
   "cell_type": "code",
   "execution_count": 93,
   "metadata": {},
   "outputs": [
    {
     "name": "stdout",
     "output_type": "stream",
     "text": [
      "Found 340 images belonging to 17 classes.\n"
     ]
    }
   ],
   "source": [
    "test_generator = test_datagen.flow_from_directory(\n",
    "        test_dir,\n",
    "        target_size=image_size,\n",
    "        shuffle = False,\n",
    "        class_mode='categorical',\n",
    "        batch_size=1)\n",
    "\n",
    "filenames = test_generator.filenames\n",
    "nb_samples = len(filenames)\n",
    "\n",
    "predict = model.predict_generator(test_generator,steps=nb_samples)"
   ]
  },
  {
   "cell_type": "code",
   "execution_count": 103,
   "metadata": {},
   "outputs": [
    {
     "name": "stdout",
     "output_type": "stream",
     "text": [
      "Confusion Matrix\n"
     ]
    },
    {
     "data": {
      "image/png": "[encoded data removed]",
      "text/plain": [
       "<Figure size 432x288 with 1 Axes>"
      ]
     },
     "metadata": {},
     "output_type": "display_data"
    }
   ],
   "source": [
    "y_pred = np.argmax(predict, axis=1)\n",
    "print('Confusion Matrix')\n",
    "\n",
    "mat = confusion_matrix(test_generator.classes, y_pred)\n",
    "sns.heatmap(mat.T, square=True, annot=True, fmt='d', cbar=False,\n",
    "            xticklabels=classes,\n",
    "            yticklabels=classes)\n",
    "plt.xlabel('true label')\n",
    "plt.ylabel('predicted label');"
   ]
  },
  {
   "cell_type": "code",
   "execution_count": 104,
   "metadata": {},
   "outputs": [
    {
     "name": "stdout",
     "output_type": "stream",
     "text": [
      "              precision    recall  f1-score   support\n",
      "\n",
      "           0       0.37      0.35      0.36        20\n",
      "           1       0.21      0.20      0.21        20\n",
      "           2       0.80      0.40      0.53        20\n",
      "           3       0.93      0.65      0.76        20\n",
      "           4       0.46      0.60      0.52        20\n",
      "           5       0.62      0.50      0.56        20\n",
      "           6       0.77      1.00      0.87        20\n",
      "           7       0.30      0.30      0.30        20\n",
      "           8       1.00      0.90      0.95        20\n",
      "           9       1.00      1.00      1.00        20\n",
      "          10       0.76      0.95      0.84        20\n",
      "          11       0.82      0.70      0.76        20\n",
      "          12       0.75      0.90      0.82        20\n",
      "          13       0.42      0.25      0.31        20\n",
      "          14       0.55      0.80      0.65        20\n",
      "          15       0.53      0.50      0.51        20\n",
      "          16       0.62      0.80      0.70        20\n",
      "\n",
      "    accuracy                           0.64       340\n",
      "   macro avg       0.64      0.64      0.63       340\n",
      "weighted avg       0.64      0.64      0.63       340\n",
      "\n"
     ]
    }
   ],
   "source": [
    "print(classification_report(test_generator.classes, y_pred))"
   ]
  },
  {
   "cell_type": "markdown",
   "metadata": {},
   "source": [
    "Things to do\n",
    "\n",
    "- Check some of incorrectly classified images\n",
    "- Experiment with other models available in Keras\n",
    "- Build your own network\n",
    "- Optimize one or several training hyperparameters"
   ]
  },
  {
   "cell_type": "markdown",
   "metadata": {},
   "source": [
    "#### 3.2 Training enhancement"
   ]
  },
  {
   "cell_type": "markdown",
   "metadata": {},
   "source": [
    "There are multiple ways to improve the quality of the model. Have a look at these papers that provide some heuristics for training a [classification](https://arxiv.org/pdf/1812.01187.pdf) or [object detection](https://arxiv.org/pdf/1902.04103.pdf) model."
   ]
  },
  {
   "cell_type": "markdown",
   "metadata": {},
   "source": [
    "##### 3.2.1 Data augmentation"
   ]
  },
  {
   "cell_type": "markdown",
   "metadata": {},
   "source": [
    "Better data augmentation can easily give a boost to a model. Some of the useful tools include\n",
    "- [imgaug](https://github.com/aleju/imgaug)\n",
    "- [mixup](https://arxiv.org/pdf/1710.09412.pdf)"
   ]
  },
  {
   "cell_type": "markdown",
   "metadata": {},
   "source": [
    "##### 3.2.2 Learning rate scheduling and early stopping criteria"
   ]
  },
  {
   "cell_type": "markdown",
   "metadata": {},
   "source": [
    "In Keras learning rate scheduling and early stopping criteria can be implemented using [Callbacks](https://keras.io/callbacks/). In particular, the following are quite useful: LearningRateScheduler, ReduceLROnPlateau, EarlyStopping,  CSVLogger, ModelCheckpoint."
   ]
  },
  {
   "cell_type": "code",
   "execution_count": null,
   "metadata": {},
   "outputs": [],
   "source": []
  },
  {
   "cell_type": "code",
   "execution_count": null,
   "metadata": {},
   "outputs": [],
   "source": []
  },
  {
   "cell_type": "code",
   "execution_count": null,
   "metadata": {},
   "outputs": [],
   "source": []
  }
 ],
 "metadata": {
  "kernelspec": {
   "display_name": ".nshvai",
   "language": "python",
   "name": ".nshvai"
  },
  "language_info": {
   "codemirror_mode": {
    "name": "ipython",
    "version": 3
   },
   "file_extension": ".py",
   "mimetype": "text/x-python",
   "name": "python",
   "nbconvert_exporter": "python",
   "pygments_lexer": "ipython3",
   "version": "3.6.7"
  }
 },
 "nbformat": 4,
 "nbformat_minor": 4
}
